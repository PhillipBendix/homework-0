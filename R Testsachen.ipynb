{
  "nbformat": 4,
  "nbformat_minor": 0,
  "metadata": {
    "colab": {
      "name": "Untitled0.ipynb",
      "provenance": [],
      "authorship_tag": "ABX9TyNCsZvNusdizL5Bde1aa8ux",
      "include_colab_link": true
    },
    "kernelspec": {
      "name": "ir",
      "display_name": "R"
    }
  },
  "cells": [
    {
      "cell_type": "markdown",
      "metadata": {
        "id": "view-in-github",
        "colab_type": "text"
      },
      "source": [
        "<a href=\"https://colab.research.google.com/github/PhillipBendix/homework-0/blob/master/R%20Testsachen.ipynb\" target=\"_parent\"><img src=\"https://colab.research.google.com/assets/colab-badge.svg\" alt=\"Open In Colab\"/></a>"
      ]
    },
    {
      "cell_type": "code",
      "metadata": {
        "id": "SdMA7zZ649pC"
      },
      "source": [
        "#####\n",
        "#Variablen deklarieren\n",
        "#####\n",
        "\n",
        "max_j <- 10      # Nummer der Periode von 1....max_j\n",
        "max_r <- max_j      # Rezyklatzyklus 1 => null mal rezykliert, 1=> 2mal rezykliert usw.\n",
        "\n",
        "q <- 0.4    # Rezyklatquote im Bereich von 0....1\n",
        "\n",
        "\n",
        "# Matrix der Index 1 (=>entspricht j) steht für die Periode, der Index 2(entspricht r) steht dafür wie oft das Material rezykliert wurde\n",
        "# jeder Eintrag gibt an welchen Anteil dieses Rezyklat an der Gesamtproduktion in dieser Periode hat.\n",
        "# Das heisst eine Zeile summiert sich immmer zu 1\n",
        "\n",
        "data <- matrix(nrow = max_j, ncol = max_r)\n",
        "\n",
        "#####\n",
        "#Matirx füllen\n",
        "######\n",
        "\n",
        "# alle Einträge einmal durchgehen und ausfüllen erst Zeilen dann Spaltenweise\n",
        "# ist nicht die schnellste R-Art aber die simpleste für mich\n",
        "\n",
        "for (j in 1:max_j) { # j sind die Zeilen => Perioden\n",
        "  for (r in 1:max_r) { # r sind die spalten => Rezyklatzyklen\n",
        "    # print(r,j)\n",
        "    if (r>j) { data[j,r] <- 0 } # in der der n.-ten Periode rezyklat nicht öfter als n mal rezykliert worden sein deswegen alle anderen Einträge null setzen, sozusagen auf der rechten Seite der Diagonale\n",
        "    else if (j==1 & r==1) { data[j,r] <- 1 } # Spezialfall, in der ersten Periode kann es nur Virgin Polymer geben\n",
        "    else if (r==1)  { data[j,r] <- (1-q) } #füllt die erste Spalte auf und zwar mit 1-q also dem Anteil an Neuware der nicht rezyklat ist\n",
        "    else if (r>1 & j>1) { data[j,r] <- q * (data[j-1, r-1]) } # berechnet den Rest der Elemente. Und zwar aus dem Eintrag schräg links oben (links weil es einmal mehr rezykliert wurde in der letzen Periode und oben weil wir eine Periode weiter sind wird mit der Rezyklat Quote mulitpliziert weil ja nur dieser Anteil dazu kommt), wenn man nicht auf eins normieren würde müsste man mit /sum(data[j-1,]) in der Klammer normiern\n",
        "    }\n",
        "}\n",
        "\n",
        "######\n",
        "# Hahaha war viel zu kompliziert\n",
        "######\n",
        "\n",
        "# stellt sich raus,  der Anteil an n-fach zykliertes Rezyklat berechnet sich in diesem Modell mit (1-q)*q^n \n",
        "# aber vlt nutze es ja was für verfeinerte Modelle\n",
        "\n",
        "# nöchster Schritt mit einer Gebrauchsdauerverteilung rechnen"
      ],
      "execution_count": 1,
      "outputs": []
    },
    {
      "cell_type": "code",
      "metadata": {
        "colab": {
          "base_uri": "https://localhost:8080/",
          "height": 223
        },
        "id": "RHuGiX-Z5Auw",
        "outputId": "dabcfac4-3280-4c0d-ee57-a44cb1f774e8"
      },
      "source": [
        ""
      ],
      "execution_count": 2,
      "outputs": [
        {
          "output_type": "display_data",
          "data": {
            "text/plain": [
              "     [,1] [,2] [,3]  [,4]   [,5]    [,6]    [,7] [,8] [,9] [,10]\n",
              "[1,] 1.0  0.00 0.000 0.0000 0.00000 0.00000 0    0    0    0    \n",
              "[2,] 0.6  0.40 0.000 0.0000 0.00000 0.00000 0    0    0    0    \n",
              "[3,] 0.6  0.24 0.160 0.0000 0.00000 0.00000 0    0    0    0    \n",
              "[4,] 0.6  0.24 0.096 0.0640 0.00000 0.00000 0    0    0    0    \n",
              "[5,] 0.6  0.24 0.096 0.0384 0.02560 0.00000 0    0    0    0    \n",
              "[6,] 0.6  0.24 0.096 0.0384 0.01536 0.01024 0    0    0    0    "
            ],
            "text/latex": "A matrix: 6 × 10 of type dbl\n\\begin{tabular}{llllllllll}\n\t 1.0 & 0.00 & 0.000 & 0.0000 & 0.00000 & 0.00000 & 0 & 0 & 0 & 0\\\\\n\t 0.6 & 0.40 & 0.000 & 0.0000 & 0.00000 & 0.00000 & 0 & 0 & 0 & 0\\\\\n\t 0.6 & 0.24 & 0.160 & 0.0000 & 0.00000 & 0.00000 & 0 & 0 & 0 & 0\\\\\n\t 0.6 & 0.24 & 0.096 & 0.0640 & 0.00000 & 0.00000 & 0 & 0 & 0 & 0\\\\\n\t 0.6 & 0.24 & 0.096 & 0.0384 & 0.02560 & 0.00000 & 0 & 0 & 0 & 0\\\\\n\t 0.6 & 0.24 & 0.096 & 0.0384 & 0.01536 & 0.01024 & 0 & 0 & 0 & 0\\\\\n\\end{tabular}\n",
            "text/markdown": "\nA matrix: 6 × 10 of type dbl\n\n| 1.0 | 0.00 | 0.000 | 0.0000 | 0.00000 | 0.00000 | 0 | 0 | 0 | 0 |\n| 0.6 | 0.40 | 0.000 | 0.0000 | 0.00000 | 0.00000 | 0 | 0 | 0 | 0 |\n| 0.6 | 0.24 | 0.160 | 0.0000 | 0.00000 | 0.00000 | 0 | 0 | 0 | 0 |\n| 0.6 | 0.24 | 0.096 | 0.0640 | 0.00000 | 0.00000 | 0 | 0 | 0 | 0 |\n| 0.6 | 0.24 | 0.096 | 0.0384 | 0.02560 | 0.00000 | 0 | 0 | 0 | 0 |\n| 0.6 | 0.24 | 0.096 | 0.0384 | 0.01536 | 0.01024 | 0 | 0 | 0 | 0 |\n\n",
            "text/html": [
              "<table class=\"dataframe\">\n",
              "<caption>A matrix: 6 × 10 of type dbl</caption>\n",
              "<tbody>\n",
              "\t<tr><td>1.0</td><td>0.00</td><td>0.000</td><td>0.0000</td><td>0.00000</td><td>0.00000</td><td>0</td><td>0</td><td>0</td><td>0</td></tr>\n",
              "\t<tr><td>0.6</td><td>0.40</td><td>0.000</td><td>0.0000</td><td>0.00000</td><td>0.00000</td><td>0</td><td>0</td><td>0</td><td>0</td></tr>\n",
              "\t<tr><td>0.6</td><td>0.24</td><td>0.160</td><td>0.0000</td><td>0.00000</td><td>0.00000</td><td>0</td><td>0</td><td>0</td><td>0</td></tr>\n",
              "\t<tr><td>0.6</td><td>0.24</td><td>0.096</td><td>0.0640</td><td>0.00000</td><td>0.00000</td><td>0</td><td>0</td><td>0</td><td>0</td></tr>\n",
              "\t<tr><td>0.6</td><td>0.24</td><td>0.096</td><td>0.0384</td><td>0.02560</td><td>0.00000</td><td>0</td><td>0</td><td>0</td><td>0</td></tr>\n",
              "\t<tr><td>0.6</td><td>0.24</td><td>0.096</td><td>0.0384</td><td>0.01536</td><td>0.01024</td><td>0</td><td>0</td><td>0</td><td>0</td></tr>\n",
              "</tbody>\n",
              "</table>\n"
            ]
          },
          "metadata": {
            "tags": []
          }
        }
      ]
    }
  ]
}